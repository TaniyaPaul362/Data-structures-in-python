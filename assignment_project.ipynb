{
  "nbformat": 4,
  "nbformat_minor": 0,
  "metadata": {
    "colab": {
      "provenance": []
    },
    "kernelspec": {
      "name": "python3",
      "display_name": "Python 3"
    },
    "language_info": {
      "name": "python"
    }
  },
  "cells": [
    {
      "cell_type": "markdown",
      "source": [],
      "metadata": {
        "id": "8BXIq9kI0Lvj"
      }
    },
    {
      "cell_type": "code",
      "source": [
        "# 1.write a code to reverse a string\n",
        "movie = \"harry potter\"\n",
        "print(movie[ : : -1])"
      ],
      "metadata": {
        "id": "8KEamf-O0PIQ",
        "colab": {
          "base_uri": "https://localhost:8080/"
        },
        "outputId": "ab6dbf00-eef4-4f94-ade7-5846610bac91"
      },
      "execution_count": null,
      "outputs": [
        {
          "output_type": "stream",
          "name": "stdout",
          "text": [
            "rettop yrrah\n"
          ]
        }
      ]
    },
    {
      "cell_type": "code",
      "source": [
        "#2.Write a code to count the number of vowels in a string.\n",
        "text = \"This is my first assignment\"\n",
        "vowel_count = 0\n",
        "\n",
        "for char in text:\n",
        "    if char.lower() in \"aeiou\":\n",
        "        vowel_count += 1\n",
        "\n",
        "print(\"Number of vowels:\", vowel_count)"
      ],
      "metadata": {
        "colab": {
          "base_uri": "https://localhost:8080/"
        },
        "id": "8HQiSXgADGUN",
        "outputId": "aa3df641-7765-47b5-f595-f602c931b47a"
      },
      "execution_count": null,
      "outputs": [
        {
          "output_type": "stream",
          "name": "stdout",
          "text": [
            "Number of vowels: 6\n"
          ]
        }
      ]
    },
    {
      "cell_type": "code",
      "source": [
        "#3.write a code to check if a given string is a palindrome or not.\n",
        "str = \"maam\"\n",
        "if str == str[ : :-1]:\n",
        "  print(\"The str is a palindrome.\")\n",
        "else:\n",
        "  print(\"The str is not a palindrome\")"
      ],
      "metadata": {
        "colab": {
          "base_uri": "https://localhost:8080/"
        },
        "id": "7L8CG0u__tMR",
        "outputId": "cff39985-7d4e-4abf-acf9-50e2a68c429b"
      },
      "execution_count": null,
      "outputs": [
        {
          "output_type": "stream",
          "name": "stdout",
          "text": [
            "The str is a palindrome.\n"
          ]
        }
      ]
    },
    {
      "cell_type": "code",
      "source": [
        "#4.write a code to check if two given strings are anagrams of each other.\n",
        "word1 = \"listen\"\n",
        "word2 = \"silent\"\n",
        "\n",
        "if(sorted(word1) == sorted(word2)):\n",
        "    print(\"It is an anagram\")\n",
        "else:\n",
        "    print(\"It is not an anagram\")"
      ],
      "metadata": {
        "colab": {
          "base_uri": "https://localhost:8080/"
        },
        "id": "Co0ND95hDew3",
        "outputId": "40a339b1-7ae9-441a-ada7-1f8eaa94fe30"
      },
      "execution_count": null,
      "outputs": [
        {
          "output_type": "stream",
          "name": "stdout",
          "text": [
            "It is an anagram\n"
          ]
        }
      ]
    },
    {
      "cell_type": "code",
      "source": [
        "# 5.Write a code to find all occurences of a given substring within another string.\n",
        "str=input(\"Enter a string:\")\n",
        "str1=input(\"Enter a string:\")\n",
        "f=0\n",
        "for i in range(len(str)):\n",
        "  for j in range(len(str1)):\n",
        "    if str[i]==str1[j]:\n",
        "      j=j+1\n",
        "    else:\n",
        "      j=0\n",
        "  if j==len(str1):\n",
        "    f=1\n",
        "    print(\"substring found at\",i-len(str1)+1)\n",
        "if f==0:\n",
        "  print(\"substring not found\")"
      ],
      "metadata": {
        "colab": {
          "base_uri": "https://localhost:8080/"
        },
        "id": "NiWbMOo6Ge8m",
        "outputId": "2a51d0d0-6ed9-4fa9-8924-89cb2455fc17"
      },
      "execution_count": null,
      "outputs": [
        {
          "output_type": "stream",
          "name": "stdout",
          "text": [
            "Enter a string:this is my book\n",
            "Enter a string:that was your book\n",
            "substring found at -3\n"
          ]
        }
      ]
    },
    {
      "cell_type": "code",
      "source": [
        "#6.Write a code to perform basic string compression using the counts of repeated characters.\n",
        "text = \"aabcccccaaa\"\n",
        "compressed = \"\"\n",
        "\n",
        "count = 1\n",
        "current_char = text[0]\n",
        "\n",
        "for i in range(1, len(text)):\n",
        "    if text[i] == current_char:\n",
        "        count += 1\n",
        "    else:\n",
        "       compressed += current_char + str(count)\n",
        "        current_char = text[i]\n",
        "        count = 1\n",
        "\n",
        "compressed += current_char + str(count)\n",
        "\n",
        "print(compressed)\n"
      ],
      "metadata": {
        "colab": {
          "base_uri": "https://localhost:8080/",
          "height": 211
        },
        "id": "9x7MelzTIATu",
        "outputId": "a99c5541-d192-4c31-f027-8ed5d21a10fa"
      },
      "execution_count": 93,
      "outputs": [
        {
          "output_type": "error",
          "ename": "TypeError",
          "evalue": "'str' object is not callable",
          "traceback": [
            "\u001b[0;31m---------------------------------------------------------------------------\u001b[0m",
            "\u001b[0;31mTypeError\u001b[0m                                 Traceback (most recent call last)",
            "\u001b[0;32m<ipython-input-93-33ecac02b3ec>\u001b[0m in \u001b[0;36m<cell line: 0>\u001b[0;34m()\u001b[0m\n\u001b[1;32m     10\u001b[0m         \u001b[0mcount\u001b[0m \u001b[0;34m+=\u001b[0m \u001b[0;36m1\u001b[0m\u001b[0;34m\u001b[0m\u001b[0;34m\u001b[0m\u001b[0m\n\u001b[1;32m     11\u001b[0m     \u001b[0;32melse\u001b[0m\u001b[0;34m:\u001b[0m\u001b[0;34m\u001b[0m\u001b[0;34m\u001b[0m\u001b[0m\n\u001b[0;32m---> 12\u001b[0;31m         \u001b[0mcompressed\u001b[0m \u001b[0;34m+=\u001b[0m \u001b[0mcurrent_char\u001b[0m \u001b[0;34m+\u001b[0m \u001b[0mstr\u001b[0m\u001b[0;34m(\u001b[0m\u001b[0mcount\u001b[0m\u001b[0;34m)\u001b[0m\u001b[0;34m\u001b[0m\u001b[0;34m\u001b[0m\u001b[0m\n\u001b[0m\u001b[1;32m     13\u001b[0m         \u001b[0mcurrent_char\u001b[0m \u001b[0;34m=\u001b[0m \u001b[0mtext\u001b[0m\u001b[0;34m[\u001b[0m\u001b[0mi\u001b[0m\u001b[0;34m]\u001b[0m\u001b[0;34m\u001b[0m\u001b[0;34m\u001b[0m\u001b[0m\n\u001b[1;32m     14\u001b[0m         \u001b[0mcount\u001b[0m \u001b[0;34m=\u001b[0m \u001b[0;36m1\u001b[0m\u001b[0;34m\u001b[0m\u001b[0;34m\u001b[0m\u001b[0m\n",
            "\u001b[0;31mTypeError\u001b[0m: 'str' object is not callable"
          ]
        }
      ]
    },
    {
      "cell_type": "code",
      "source": [
        "#7.Write a code to determine if a string ha all unique characters.\n",
        "string = \"delhi is the capital of india\"\n",
        "\n",
        "\n",
        "is_unique = len(set(string)) == len(string)\n",
        "\n",
        "print(is_unique)"
      ],
      "metadata": {
        "colab": {
          "base_uri": "https://localhost:8080/"
        },
        "id": "u72gCy0PLGWv",
        "outputId": "54cd1a5b-6ccd-4e12-b3d5-fe7ca1ce0e77"
      },
      "execution_count": null,
      "outputs": [
        {
          "output_type": "stream",
          "name": "stdout",
          "text": [
            "False\n"
          ]
        }
      ]
    },
    {
      "cell_type": "code",
      "source": [
        "# 8.Write a code to convert a given string to uppercase or lowercae.\n",
        "text = \"Harry potter is my fav movie\"\n",
        "\n",
        "uppercase_text = text.upper()\n",
        "print(uppercase_text)\n",
        "\n",
        "lowercase_text = text.lower()\n",
        "print(lowercase_text)\n"
      ],
      "metadata": {
        "colab": {
          "base_uri": "https://localhost:8080/"
        },
        "id": "hODlQt-JOJI2",
        "outputId": "f10bdfca-1349-4ab2-8db8-6468465ac618"
      },
      "execution_count": null,
      "outputs": [
        {
          "output_type": "stream",
          "name": "stdout",
          "text": [
            "HARRY POTTER IS MY FAV MOVIE\n",
            "harry potter is my fav movie\n"
          ]
        }
      ]
    },
    {
      "cell_type": "code",
      "source": [
        "#9. Write a code to count the number of words in a string.\n",
        "text = input(\"Enter a text here:\")\n",
        "words = text.split()\n",
        "word_count = len(words)\n",
        "print(f\"The string has {word_count} words.\")"
      ],
      "metadata": {
        "colab": {
          "base_uri": "https://localhost:8080/"
        },
        "id": "9xwdrAelPoCn",
        "outputId": "695742e0-3838-45eb-c497-eb54a955d784"
      },
      "execution_count": null,
      "outputs": [
        {
          "output_type": "stream",
          "name": "stdout",
          "text": [
            "Enter a text here:this is a beautiful program\n",
            "The string has 5 words.\n"
          ]
        }
      ]
    },
    {
      "cell_type": "code",
      "source": [
        "# 10.Write a code to concatenate two strings without using the + operator.\n",
        "str1 = input(\"Enter a str here:\")\n",
        "str2 = input(\"Enter a str here:\")\n",
        "\n",
        "result = \"\".join([str1, str2])\n",
        "print(result)\n",
        "\n"
      ],
      "metadata": {
        "colab": {
          "base_uri": "https://localhost:8080/"
        },
        "id": "bv558snyZMY6",
        "outputId": "19a36107-d146-4e7a-a214-461d5eca3d71"
      },
      "execution_count": null,
      "outputs": [
        {
          "output_type": "stream",
          "name": "stdout",
          "text": [
            "Enter a str here:beautiful\n",
            "Enter a str here:picture\n",
            "beautifulpicture\n"
          ]
        }
      ]
    },
    {
      "cell_type": "code",
      "source": [
        "#11.Write a code to remove all occurrences of a specific element from a list.\n",
        "my_list = [23,45,56,45,8,45,10]\n",
        "element_to_remove = 45\n",
        "\n",
        "new_list = [x for x in my_list if x != element_to_remove]\n",
        "print(new_list)"
      ],
      "metadata": {
        "colab": {
          "base_uri": "https://localhost:8080/"
        },
        "id": "MqZDCn0Oahws",
        "outputId": "04eeff49-648f-4dea-aedf-c372e820fbe2"
      },
      "execution_count": null,
      "outputs": [
        {
          "output_type": "stream",
          "name": "stdout",
          "text": [
            "[23, 56, 8, 10]\n"
          ]
        }
      ]
    },
    {
      "cell_type": "code",
      "source": [
        "#14.Write a code to reverse a list in-place without using any built-in reverse functions.\n",
        "my_list = [100,70,50,30,68]\n",
        "start = 0\n",
        "end = len(my_list) - 1\n",
        "\n",
        "while start < end:\n",
        "    my_list[start], my_list[end] = my_list[end], my_list[start]\n",
        "    start += 1\n",
        "    end -= 1\n",
        "\n",
        "print(my_list)"
      ],
      "metadata": {
        "colab": {
          "base_uri": "https://localhost:8080/"
        },
        "id": "iWXjHRdqemIF",
        "outputId": "dc9bd02c-9413-48c8-a2b9-a775b25b7e1f"
      },
      "execution_count": null,
      "outputs": [
        {
          "output_type": "stream",
          "name": "stdout",
          "text": [
            "[68, 30, 50, 70, 100]\n"
          ]
        }
      ]
    },
    {
      "cell_type": "code",
      "source": [
        "#16.Create a code to check if a given list is sorted (either in ascending or descending order) or not.\n",
        "data = [1, 2, 3, 4, 5]\n",
        "\n",
        "n = len(data)\n",
        "\n",
        "\n",
        "is_ascending = all(data[i] <= data[i+1] for i in range(n-1))\n",
        "\n",
        "\n",
        "is_descending = all(data[i] >= data[i+1] for i in range(n-1))\n",
        "\n",
        "\n",
        "print(is_ascending or is_descending)\n",
        "\n",
        "\n"
      ],
      "metadata": {
        "colab": {
          "base_uri": "https://localhost:8080/"
        },
        "id": "ETA-mo6Nfg42",
        "outputId": "0396ec29-da48-44ec-e8ca-01d9d9e39f22"
      },
      "execution_count": null,
      "outputs": [
        {
          "output_type": "stream",
          "name": "stdout",
          "text": [
            "True\n"
          ]
        }
      ]
    },
    {
      "cell_type": "code",
      "source": [
        "#17.Write a code to merge two sorted lists into a single sorted list.\n",
        "list1 = [1, 3, 5, 7]\n",
        "list2 = [2, 4, 6, 8]\n",
        "\n",
        "merged_list = []\n",
        "\n",
        "\n",
        "while list1 and list2:\n",
        "  if list1[0] <= list2[0]:\n",
        "    merged_list.append(list1.pop(0))\n",
        "  else:\n",
        "    merged_list.append(list2.pop(0))\n",
        "merged_list.extend(list1)\n",
        "merged_list.extend(list2)\n",
        "\n",
        "print(merged_list)"
      ],
      "metadata": {
        "colab": {
          "base_uri": "https://localhost:8080/"
        },
        "id": "FIiWgom4hQBf",
        "outputId": "ea1e8a5b-fa24-4372-f88f-ceaa501c3411"
      },
      "execution_count": null,
      "outputs": [
        {
          "output_type": "stream",
          "name": "stdout",
          "text": [
            "[1, 2, 3, 4, 5, 6, 7, 8]\n"
          ]
        }
      ]
    },
    {
      "cell_type": "code",
      "source": [
        "#18.Implement a code to find the intersection of two given lists.\n",
        "list1 =[2,8,7]\n",
        "list2 =[6,8,9]\n",
        "intersection = []\n",
        "for element in list1:\n",
        "    if element in list2 and element not in intersection:\n",
        "      intersection.append(element)\n",
        "print(intersection)"
      ],
      "metadata": {
        "colab": {
          "base_uri": "https://localhost:8080/"
        },
        "id": "ALAYKSyMiqc5",
        "outputId": "7b8fe147-bafe-4952-9b01-ac1f91b1ea0e"
      },
      "execution_count": null,
      "outputs": [
        {
          "output_type": "stream",
          "name": "stdout",
          "text": [
            "[8]\n"
          ]
        }
      ]
    },
    {
      "cell_type": "code",
      "source": [
        "#20.Write a code to shuffle a given list randomly without using any built-in shuffle functions.\n",
        "my_list = [1, 2, 3, 4, 5]\n",
        "n = len(my_list)\n",
        "\n",
        "for i in range(n):\n",
        "    j = random.randrange(i, n)\n",
        "    my_list[i], my_list[j] = my_list[j], my_list[i]\n",
        "\n",
        "print(my_list)\n",
        "\n"
      ],
      "metadata": {
        "colab": {
          "base_uri": "https://localhost:8080/"
        },
        "id": "tMXZWAaEkgJg",
        "outputId": "cdd98a2f-5add-49ce-e6a3-019138adeaf7"
      },
      "execution_count": null,
      "outputs": [
        {
          "output_type": "stream",
          "name": "stdout",
          "text": [
            "[4, 1, 3, 5, 2]\n"
          ]
        }
      ]
    },
    {
      "cell_type": "code",
      "source": [
        "#34.Write a code that takes a dictionary as input and returns a sorted version of it based on the values. you can choose whether to sort in ascending or descending order\n",
        "my_dict = {\"maths\": 5,\"science\": 3,\"english\":7 }\n",
        "\n",
        "sorted_dict_asc = dict(sorted(my_dict.items(), key=lambda item: item[1]))\n",
        "print(sorted_dict_asc)\n",
        "\n",
        "sorted_dict_desc = dict(sorted(my_dict.items(), key=lambda item: item[1], reverse=True))\n",
        "print(sorted_dict_desc)\n"
      ],
      "metadata": {
        "colab": {
          "base_uri": "https://localhost:8080/"
        },
        "id": "EQO8IVqSo5rH",
        "outputId": "c3567422-a000-42ef-f721-5d82faa5b50a"
      },
      "execution_count": null,
      "outputs": [
        {
          "output_type": "stream",
          "name": "stdout",
          "text": [
            "{'science': 3, 'maths': 5, 'english': 7}\n",
            "{'english': 7, 'maths': 5, 'science': 3}\n"
          ]
        }
      ]
    },
    {
      "cell_type": "code",
      "source": [
        "#35.Write a code that inverts a dictionary, swapping keys and values. Ensure that the inverted dictionary correctly handles cases where multiple keys have the same value by storing the keys as a list in the inverted dictionary.\n",
        "my_dict = {'a': 1, 'b': 2, 'c': 1, 'd': 3}\n",
        "inverted_dict = {}\n",
        "\n",
        "for key, value in my_dict.items():\n",
        "  inverted_dict.setdefault(value, []).append(key)\n",
        "\n",
        "print(inverted_dict)"
      ],
      "metadata": {
        "colab": {
          "base_uri": "https://localhost:8080/"
        },
        "id": "dAFuWHWlpNiw",
        "outputId": "367c9c05-4803-4607-8d6a-4abb416a0749"
      },
      "execution_count": null,
      "outputs": [
        {
          "output_type": "stream",
          "name": "stdout",
          "text": [
            "{1: ['a', 'c'], 2: ['b'], 3: ['d']}\n"
          ]
        }
      ]
    },
    {
      "cell_type": "code",
      "source": [
        "#19.create a code to find the union of two lists without duplicates.\n",
        "list1 = [9,8,7,5,2]\n",
        "list2 = [7,5,3,4,1]\n",
        "\n",
        "union_set = set(list1 + list2)\n",
        "\n",
        "union_list = list(union_set)\n",
        "\n",
        "print(union_list)"
      ],
      "metadata": {
        "colab": {
          "base_uri": "https://localhost:8080/"
        },
        "id": "ykoZTHwYsO4k",
        "outputId": "83df0550-9de0-4d3a-db2f-09a5aedeb031"
      },
      "execution_count": null,
      "outputs": [
        {
          "output_type": "stream",
          "name": "stdout",
          "text": [
            "[1, 2, 3, 4, 5, 7, 8, 9]\n"
          ]
        }
      ]
    },
    {
      "cell_type": "code",
      "source": [
        "#20.Write a code to shuffle a given list randomly without using any built-in shuffle functions.\n",
        "my_list = [1, 2, 3, 4, 5]\n",
        "n = len(my_list)\n",
        "\n",
        "for i in range(n):\n",
        "    j = random.randrange(i, n)\n",
        "    my_list[i], my_list[j] = my_list[j], my_list[i]\n",
        "\n",
        "print(my_list)"
      ],
      "metadata": {
        "colab": {
          "base_uri": "https://localhost:8080/"
        },
        "id": "vAORWz1Rvx29",
        "outputId": "24f0baf5-9893-4c5b-ea00-21829a0ae22c"
      },
      "execution_count": null,
      "outputs": [
        {
          "output_type": "stream",
          "name": "stdout",
          "text": [
            "[1, 2, 3, 4, 5]\n"
          ]
        }
      ]
    },
    {
      "cell_type": "code",
      "source": [
        "#23.Write a code to concatenate two tuples. The function should take two tuples as input and return a new tuple containing elements from both input tuples.\n",
        "\n",
        "input_str1 = input(\"Enter elements for the first tuple, separated by commas: \")\n",
        "tuple1 = tuple(map(int, input_str1.split(',')))\n",
        "\n",
        "\n",
        "input_str2 = input(\"Enter elements for the second tuple, separated by commas: \")\n",
        "tuple2 = tuple(map(int, input_str2.split(',')))\n",
        "\n",
        "# Concatenate means to combine two or more strings,tuples, etc.\n",
        "concatenated_tuple = tuple1 + tuple2\n",
        "print(\"Concatenated Tuple:\", concatenated_tuple)"
      ],
      "metadata": {
        "colab": {
          "base_uri": "https://localhost:8080/"
        },
        "id": "7abAjYti0keE",
        "outputId": "96b0e78f-8e21-4d89-f10a-4a6e92d1d43c"
      },
      "execution_count": null,
      "outputs": [
        {
          "output_type": "stream",
          "name": "stdout",
          "text": [
            "Enter elements for the first tuple, separated by commas: 1, 2, 3, 4\n",
            "Enter elements for the second tuple, separated by commas: 5, 6, 7, 8\n",
            "Concatenated Tuple: (1, 2, 3, 4, 5, 6, 7, 8)\n"
          ]
        }
      ]
    },
    {
      "cell_type": "code",
      "source": [
        "#22.Create a code that prompts the user to enter two sets of integers separated by commas. Then, print the intersection of these two sets.\n",
        "\n",
        "set1_input = input(\"Enter the first set of integers separated by commas: \")\n",
        "set1 = set(map(int, set1_input.split(',')))\n",
        "\n",
        "\n",
        "set2_input = input(\"Enter the second set of integers separated by commas: \")\n",
        "set2 = set(map(int, set2_input.split(',')))\n",
        "\n",
        "\n",
        "intersection = set1.intersection(set2)\n",
        "print(\"Intersection:\", intersection)"
      ],
      "metadata": {
        "colab": {
          "base_uri": "https://localhost:8080/"
        },
        "id": "sD3qgg8l1Vpg",
        "outputId": "c69a22aa-3480-4f84-a4ca-ed86276c062c"
      },
      "execution_count": null,
      "outputs": [
        {
          "output_type": "stream",
          "name": "stdout",
          "text": [
            "Enter the first set of integers separated by commas: 10, 30, 50, 40\n",
            "Enter the second set of integers separated by commas: 30,50, 60, 20\n",
            "Intersection: {50, 30}\n"
          ]
        }
      ]
    },
    {
      "cell_type": "code",
      "source": [
        "#24.Develop a code that prompts the user to input two sets of strings. Then, print the elements that are present in the first set but not in the second set.\n",
        "\n",
        "set1_input = input(\"Enter the first set of strings separated by commas: \")\n",
        "set1 = set(set1_input.split(','))\n",
        "\n",
        "\n",
        "set2_input = input(\"Enter the second set of strings separated by commas: \")\n",
        "set2 = set(set2_input.split(','))\n",
        "\n",
        "\n",
        "difference = set1 - set2\n",
        "\n",
        "print(\"Elements in the first set but not in the second set:\", difference)\n"
      ],
      "metadata": {
        "colab": {
          "base_uri": "https://localhost:8080/"
        },
        "id": "NVVCcQGu2G2H",
        "outputId": "2b9edb2a-7e7e-4ebb-8c5c-a0406166ada6"
      },
      "execution_count": null,
      "outputs": [
        {
          "output_type": "stream",
          "name": "stdout",
          "text": [
            "Enter the first set of strings separated by commas: apple,grapes,banana\n",
            "Enter the second set of strings separated by commas: grapes, mango,\n",
            "Elements in the first set but not in the second set: {'apple', 'banana'}\n"
          ]
        }
      ]
    },
    {
      "cell_type": "code",
      "source": [
        "#25.Create a code that takes a tuple and two integers as input. The function should return a new tuple containing elements from the original tuple within the specified range of indices.\n",
        "\n",
        "tuple_input = input(\"Enter tuple elements separated by commas: \")\n",
        "original_tuple = tuple(map(int, tuple_input.split(',')))\n",
        "\n",
        "\n",
        "start_index = int(input(\"Enter the start index: \"))\n",
        "end_index = int(input(\"Enter the end index: \"))\n",
        "\n",
        "sliced_tuple = original_tuple[start_index:end_index]\n",
        "\n",
        "print(\"Sliced Tuple:\", sliced_tuple)"
      ],
      "metadata": {
        "colab": {
          "base_uri": "https://localhost:8080/"
        },
        "id": "XEVd8NxG4i9g",
        "outputId": "64f4ed4a-6ef7-4082-fe0c-e88456b04077"
      },
      "execution_count": null,
      "outputs": [
        {
          "output_type": "stream",
          "name": "stdout",
          "text": [
            "Enter tuple elements separated by commas: 30, 44, 70,35,20\n",
            "Enter the start index: 0\n",
            "Enter the end index: 4\n",
            "Sliced Tuple: (30, 44, 70, 35)\n"
          ]
        }
      ]
    },
    {
      "cell_type": "code",
      "source": [
        "#26.Write a code that prompts the user to input two sets of characters. Then, print the union of these two sets.\n",
        "set1_input = input(\"Enter the first set of characters separated by commas: \")\n",
        "set1 = set(set1_input.replace(\",\", \"\"))\n",
        "\n",
        "set2_input = input(\"Enter the second set of characters separated by commas: \")\n",
        "set2 = set(set2_input.replace(\",\", \"\"))\n",
        "union = set1.union(set2)\n",
        "print(\"Union:\", union)"
      ],
      "metadata": {
        "colab": {
          "base_uri": "https://localhost:8080/"
        },
        "id": "MaoiU9lD7sfk",
        "outputId": "4a73f614-c995-4235-95a6-3dc8a5f1b380"
      },
      "execution_count": null,
      "outputs": [
        {
          "output_type": "stream",
          "name": "stdout",
          "text": [
            "Enter the first set of characters separated by commas: children, woman\n",
            "Enter the second set of characters separated by commas: student, man\n",
            "Union: {'m', 't', 'e', 'c', 'w', 'a', 'd', 'u', ' ', 'o', 'i', 'n', 'l', 's', 'h', 'r'}\n"
          ]
        }
      ]
    },
    {
      "cell_type": "code",
      "source": [
        "#27.Develop a code that takes a tuple of integers as input. The function should return the maximum and minimum values from the tuple using tuple unpacking.\n",
        "\n",
        "tuple_input = input(\"Enter tuple elements separated by commas: \")\n",
        "my_tuple = tuple(map(int, tuple_input.split(',')))\n",
        "\n",
        "if not my_tuple:\n",
        "    min_value, max_value = None, None\n",
        "else:\n",
        "    min_value = min(my_tuple)\n",
        "    max_value = max(my_tuple)\n",
        "\n",
        "print(\"Minimum:\", min_value)\n",
        "print(\"Maximum:\", max_value)"
      ],
      "metadata": {
        "colab": {
          "base_uri": "https://localhost:8080/"
        },
        "id": "w7NW7JPe-D3n",
        "outputId": "ea046da3-09df-4a74-ab46-92afd2b2531c"
      },
      "execution_count": null,
      "outputs": [
        {
          "output_type": "stream",
          "name": "stdout",
          "text": [
            "Enter tuple elements separated by commas:  3,8,6,9,15,1,0\n",
            "Minimum: 0\n",
            "Maximum: 15\n"
          ]
        }
      ]
    },
    {
      "cell_type": "code",
      "source": [
        "#28.Create a code that defines two sets of integers. Then, print the union, intersection, and difference of these two sets.\n",
        "\n",
        "set1 = {1, 2, 3, 4, 5}\n",
        "set2 = {3, 4, 5, 6, 7}\n",
        "\n",
        "union = set1.union(set2)\n",
        "print(\"Union:\", union)\n",
        "\n",
        "intersection = set1.intersection(set2)\n",
        "print(\"Intersection:\", intersection)\n",
        "\n",
        "difference = set1.difference(set2)\n",
        "print(\"Difference (set1 - set2):\", difference)"
      ],
      "metadata": {
        "colab": {
          "base_uri": "https://localhost:8080/"
        },
        "id": "eHcPaAp5_rmv",
        "outputId": "a505a039-ee0a-4644-87f2-1d24f854b002"
      },
      "execution_count": null,
      "outputs": [
        {
          "output_type": "stream",
          "name": "stdout",
          "text": [
            "Union: {1, 2, 3, 4, 5, 6, 7}\n",
            "Intersection: {3, 4, 5}\n",
            "Difference (set1 - set2): {1, 2}\n"
          ]
        }
      ]
    },
    {
      "cell_type": "code",
      "source": [
        "#29.Write a code that takes a tuple and an element as input. The function should return the count of occurrences of the given element in the tuple.\n",
        "tuple_input = input(\"Enter tuple elements separated by commas: \")\n",
        "my_tuple = tuple(map(int, tuple_input.split(',')))  # Convert input to tuple of integers\n",
        "\n",
        "element = int(input(\"Enter the element to count: \"))  # Get element from user\n",
        "\n",
        "count = my_tuple.count(element)\n",
        "\n",
        "print(\"Occurrences of\", element, \"in the tuple:\", count)"
      ],
      "metadata": {
        "id": "rJDTZXgF65-5",
        "colab": {
          "base_uri": "https://localhost:8080/"
        },
        "outputId": "37da898c-b56b-4589-aaaa-aa06a6478c23"
      },
      "execution_count": 77,
      "outputs": [
        {
          "output_type": "stream",
          "name": "stdout",
          "text": [
            "Enter tuple elements separated by commas: 11, 22, 33, 22, 44, 22\n",
            "Enter the element to count: 22\n",
            "Occurrences of 22 in the tuple: 3\n"
          ]
        }
      ]
    },
    {
      "cell_type": "code",
      "source": [
        "#30.Develop a code that prompts the user to input two sets of strings. Then, print the symmetric difference of these two sets.\n",
        "\n",
        "set1_input = input(\"Enter elements for the first set, separated by spaces: \")\n",
        "set1 = set(set1_input.split())\n",
        "\n",
        "set2_input = input(\"Enter elements for the second set, separated by spaces: \")\n",
        "set2 = set(set2_input.split())\n",
        "\n",
        "symmetric_difference = set1.symmetric_difference(set2)\n",
        "\n",
        "print(\"Symmetric Difference:\", symmetric_difference)\n"
      ],
      "metadata": {
        "colab": {
          "base_uri": "https://localhost:8080/"
        },
        "id": "wtIOo_glSwEW",
        "outputId": "da8b6f2b-4e33-49d5-8612-e6fd439fac6a"
      },
      "execution_count": 78,
      "outputs": [
        {
          "output_type": "stream",
          "name": "stdout",
          "text": [
            "Enter elements for the first set, separated by spaces: polity, economics, history, geography\n",
            "Enter elements for the second set, separated by spaces: maths, gk, polity, english\n",
            "Symmetric Difference: {'geography', 'maths,', 'gk,', 'economics,', 'history,', 'english'}\n"
          ]
        }
      ]
    },
    {
      "cell_type": "code",
      "source": [
        "#31.Write a code that takes a list of words as input and returns a dictionary where the keys are unique words and the values are the frequencies of those words in the input list.\n",
        "\n",
        "words_input = input(\"Enter a list of words separated by spaces: \")\n",
        "\n",
        "words = words_input.split()\n",
        "\n",
        "word_frequencies = {}\n",
        "for word in words:\n",
        "    word_frequencies[word] = word_frequencies.get(word, 0) + 1\n",
        "\n",
        "print(word_frequencies)"
      ],
      "metadata": {
        "colab": {
          "base_uri": "https://localhost:8080/"
        },
        "id": "8sMkmjSeUa0v",
        "outputId": "c5599c39-4f50-4c33-f580-6e97e85f12bb"
      },
      "execution_count": 85,
      "outputs": [
        {
          "output_type": "stream",
          "name": "stdout",
          "text": [
            "Enter a list of words separated by spaces: krishna  ganga  yamuna  ganga saraswati  ganga\n",
            "{'krishna': 1, 'ganga': 3, 'yamuna': 1, 'saraswati': 1}\n"
          ]
        }
      ]
    },
    {
      "cell_type": "code",
      "source": [
        "#32.Write a code that takes two dictionaries as input and merges them into a single dictionary. If there are common keys, the values should be added together.\n",
        "\n",
        "dict1_input = input(\"Enter the first dictionary as key:value pairs, separated by commas: \")\n",
        "dict1 = dict(item.split(\":\") for item in dict1_input.split(\",\"))\n",
        "\n",
        "dict2_input = input(\"Enter the second dictionary as key:value pairs, separated by commas: \")\n",
        "dict2 = dict(item.split(\":\") for item in dict2_input.split(\",\"))\n",
        "\n",
        "\n",
        "dict1 = {k: int(v) for k, v in dict1.items()}\n",
        "dict2 = {k: int(v) for k, v in dict2.items()}\n",
        "\n",
        "merged_dict = dict1.copy()\n",
        "for key, value in dict2.items():\n",
        "    merged_dict[key] = merged_dict.get(key, 0) + value\n",
        "\n",
        "print(merged_dict)"
      ],
      "metadata": {
        "colab": {
          "base_uri": "https://localhost:8080/"
        },
        "id": "9UrK2IFYVm4n",
        "outputId": "f45f1acb-ed92-4bdc-e125-8d8dc6aab593"
      },
      "execution_count": 80,
      "outputs": [
        {
          "output_type": "stream",
          "name": "stdout",
          "text": [
            "Enter the first dictionary as key:value pairs, separated by commas: sci : 5 , eng : 2, hindi : 4\n",
            "Enter the second dictionary as key:value pairs, separated by commas: social : 6, geo : 1\n",
            "{'sci ': 5, ' eng ': 2, ' hindi ': 4, 'social ': 6, ' geo ': 1}\n"
          ]
        }
      ]
    },
    {
      "cell_type": "code",
      "source": [
        "#33.Write a code to access a value in a nested dictionary. The function should take the dictionary and a list of keys as input, and return the corresponding value. If any of the keys do not exist in the dictionary, the function should return None.\n",
        "\n",
        "data_input = input(\"Enter the nested dictionary: \")\n",
        "data = eval(data_input)\n",
        "\n",
        "keys_input = input(\"Enter the list of keys (comma-separated): \")\n",
        "keys = keys_input.strip('[]').split(',')\n",
        "keys = [key.strip().strip(\"'\") for key in keys]\n",
        "\n",
        "value = data\n",
        "for key in keys:\n",
        "     if key in value:\n",
        "        value = value[key]\n",
        "     else:\n",
        "        value = None\n",
        "        break\n",
        "\n",
        "print(value)"
      ],
      "metadata": {
        "colab": {
          "base_uri": "https://localhost:8080/"
        },
        "id": "xCtg1mLRW5PP",
        "outputId": "021c0ff1-eb61-4180-ff3a-291463a672d5"
      },
      "execution_count": 83,
      "outputs": [
        {
          "output_type": "stream",
          "name": "stdout",
          "text": [
            "Enter the nested dictionary: {\"apple\" : { \"mango\" :{\"orange\": 10}}}\n",
            "Enter the list of keys (comma-separated): apple, mango, banana\n",
            "None\n"
          ]
        }
      ]
    },
    {
      "cell_type": "code",
      "source": [
        "#21.Write a code that takes two tuples as input and returns a new tuple containing elements that are common to both input tuples.\n",
        "\n",
        "input_str1 = input(\"Enter elements for the first tuple, separated by commas: \")\n",
        "tuple1 = tuple(map(int, input_str1.split(',')))\n",
        "\n",
        "input_str2 = input(\"Enter elements for the second tuple, separated by commas: \")\n",
        "tuple2 = tuple(map(int, input_str2.split(',')))\n",
        "\n",
        "common_elements = tuple(element for element in tuple1 if element in tuple2)\n",
        "\n",
        "print(\"Common Elements:\", common_elements)"
      ],
      "metadata": {
        "colab": {
          "base_uri": "https://localhost:8080/"
        },
        "id": "l9bzfZ7jZuyQ",
        "outputId": "03152eef-3111-49e7-c95b-f767ba982865"
      },
      "execution_count": 87,
      "outputs": [
        {
          "output_type": "stream",
          "name": "stdout",
          "text": [
            "Enter elements for the first tuple, separated by commas: 31, 18, 82, 76, 2, 7\n",
            "Enter elements for the second tuple, separated by commas: 82, 31, 40, 55, 6\n",
            "Common Elements: (31, 82)\n"
          ]
        }
      ]
    },
    {
      "cell_type": "code",
      "source": [
        "#12.Implement a code to find the second largest number in a given list of integers.\n",
        "numbers = [10, 5, 20, 15, 8]\n",
        "\n",
        "unique_numbers = sorted(list(set(numbers)), reverse=True)\n",
        "\n",
        "if len(unique_numbers) >= 2:\n",
        "    second_largest = unique_numbers[1]\n",
        "    print(\"The second largest number is:\", second_largest)\n",
        "else:\n",
        "    print(\"The list does not have a second largest number.\")"
      ],
      "metadata": {
        "colab": {
          "base_uri": "https://localhost:8080/"
        },
        "id": "13dCV43WfK0a",
        "outputId": "46bbc76d-efb3-4bf2-aefb-1201e925913f"
      },
      "execution_count": 88,
      "outputs": [
        {
          "output_type": "stream",
          "name": "stdout",
          "text": [
            "The second largest number is: 15\n"
          ]
        }
      ]
    },
    {
      "cell_type": "code",
      "source": [
        "#13.Create a code to count the occurrences of each element in a list and return a dictionary with elements as keys and their counts as values.\n",
        "my_list = [1, 2, 2, 3, 3, 3, 4, 4, 4, 5, 5]\n",
        "element_counts = {}  # Initialize an empty dictionary\n",
        "\n",
        "for element in my_list:\n",
        "    element_counts[element] = element_counts.get(element, 0) + 1\n",
        "\n",
        "print(element_counts)"
      ],
      "metadata": {
        "colab": {
          "base_uri": "https://localhost:8080/"
        },
        "id": "ZHGinkK4gSmT",
        "outputId": "ddbff0b7-5ed1-486a-9ce7-e41aa5d0bb98"
      },
      "execution_count": 90,
      "outputs": [
        {
          "output_type": "stream",
          "name": "stdout",
          "text": [
            "{1: 1, 2: 2, 3: 3, 4: 3, 5: 2}\n"
          ]
        }
      ]
    }
  ]
}